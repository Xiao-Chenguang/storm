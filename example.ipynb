{
 "cells": [
  {
   "cell_type": "markdown",
   "metadata": {},
   "source": [
    "# Example of using STORM optimizer"
   ]
  },
  {
   "cell_type": "markdown",
   "metadata": {},
   "source": [
    "## Load the libraries as usual and import the STORM optimizer"
   ]
  },
  {
   "cell_type": "code",
   "execution_count": 27,
   "metadata": {},
   "outputs": [
    {
     "data": {
      "text/plain": [
       "<torch._C.Generator at 0x107f56230>"
      ]
     },
     "execution_count": 27,
     "metadata": {},
     "output_type": "execute_result"
    }
   ],
   "source": [
    "import torch\n",
    "from torch import nn\n",
    "from torch.utils.data import DataLoader\n",
    "from torchvision import datasets, transforms\n",
    "\n",
    "from storm import STORM\n",
    "\n",
    "torch.manual_seed(0)"
   ]
  },
  {
   "cell_type": "markdown",
   "metadata": {},
   "source": [
    "## Define the model, the objective function as usual and initialize the STORM optimizer"
   ]
  },
  {
   "cell_type": "code",
   "execution_count": 28,
   "metadata": {},
   "outputs": [],
   "source": [
    "net = nn.Sequential(\n",
    "    nn.Flatten(),\n",
    "    nn.Linear(28 * 28, 256),\n",
    "    nn.ReLU(),\n",
    "    nn.Linear(256, 10),\n",
    ")\n",
    "optimizer = STORM(net.parameters(), k=1, w=1, c=30, foreach=True)\n",
    "criterion = nn.CrossEntropyLoss()\n",
    "\n",
    "datapath = \"datasets\"\n",
    "dataset = datasets.MNIST(datapath, True, transforms.ToTensor(), download=True)\n",
    "train_loader = DataLoader(dataset, batch_size=100, shuffle=True)"
   ]
  },
  {
   "cell_type": "markdown",
   "metadata": {},
   "source": [
    "## Run the STORM optimizer\n",
    "\n",
    "- Initialize the `cur_batch` to `None`.\n",
    "- Loop over the batches.\n",
    "    1. If `cur_batch` is `None`, skip the first batch.\n",
    "    2. If `cur_batch` is not `None`, update the model with the current batch.\n",
    "    3. Compute the future batch gradients on the current model.\n",
    "    4. Compute the current batch gradients and update the model.\n",
    "    5. Update the `cur_batch`."
   ]
  },
  {
   "cell_type": "code",
   "execution_count": 29,
   "metadata": {},
   "outputs": [
    {
     "name": "stdout",
     "output_type": "stream",
     "text": [
      "Epoch 0, step 100, Loss: 0.297, Acc: 0.940, lr: 0.193, momentum: 0.000\n",
      "Epoch 0, step 200, Loss: 0.421, Acc: 0.920, lr: 0.160, momentum: 0.233\n",
      "Epoch 0, step 300, Loss: 0.282, Acc: 0.940, lr: 0.143, momentum: 0.390\n",
      "Epoch 0, step 400, Loss: 0.258, Acc: 0.900, lr: 0.131, momentum: 0.481\n",
      "Epoch 0, step 500, Loss: 0.308, Acc: 0.910, lr: 0.123, momentum: 0.543\n",
      "Epoch 1, step   0, Loss: 0.273, Acc: 0.910, lr: 0.117, momentum: 0.589\n",
      "Epoch 1, step 100, Loss: 0.168, Acc: 0.950, lr: 0.112, momentum: 0.624\n",
      "Epoch 1, step 200, Loss: 0.126, Acc: 0.980, lr: 0.108, momentum: 0.652\n",
      "Epoch 1, step 300, Loss: 0.152, Acc: 0.960, lr: 0.104, momentum: 0.674\n",
      "Epoch 1, step 400, Loss: 0.282, Acc: 0.940, lr: 0.101, momentum: 0.693\n",
      "Epoch 1, step 500, Loss: 0.367, Acc: 0.900, lr: 0.098, momentum: 0.710\n",
      "Epoch 2, step   0, Loss: 0.124, Acc: 0.950, lr: 0.096, momentum: 0.724\n",
      "Epoch 2, step 100, Loss: 0.126, Acc: 0.950, lr: 0.094, momentum: 0.736\n",
      "Epoch 2, step 200, Loss: 0.133, Acc: 0.950, lr: 0.092, momentum: 0.747\n",
      "Epoch 2, step 300, Loss: 0.250, Acc: 0.940, lr: 0.090, momentum: 0.757\n",
      "Epoch 2, step 400, Loss: 0.249, Acc: 0.930, lr: 0.088, momentum: 0.766\n",
      "Epoch 2, step 500, Loss: 0.222, Acc: 0.920, lr: 0.087, momentum: 0.774\n",
      "Epoch 3, step   0, Loss: 0.082, Acc: 0.970, lr: 0.085, momentum: 0.781\n",
      "Epoch 3, step 100, Loss: 0.132, Acc: 0.960, lr: 0.084, momentum: 0.788\n",
      "Epoch 3, step 200, Loss: 0.104, Acc: 0.990, lr: 0.083, momentum: 0.794\n",
      "Epoch 3, step 300, Loss: 0.123, Acc: 0.990, lr: 0.082, momentum: 0.800\n",
      "Epoch 3, step 400, Loss: 0.168, Acc: 0.960, lr: 0.081, momentum: 0.805\n",
      "Epoch 3, step 500, Loss: 0.112, Acc: 0.960, lr: 0.080, momentum: 0.810\n",
      "Epoch 4, step   0, Loss: 0.075, Acc: 0.980, lr: 0.079, momentum: 0.814\n",
      "Epoch 4, step 100, Loss: 0.109, Acc: 0.970, lr: 0.078, momentum: 0.819\n",
      "Epoch 4, step 200, Loss: 0.109, Acc: 0.970, lr: 0.077, momentum: 0.823\n",
      "Epoch 4, step 300, Loss: 0.135, Acc: 0.950, lr: 0.076, momentum: 0.827\n",
      "Epoch 4, step 400, Loss: 0.105, Acc: 0.970, lr: 0.075, momentum: 0.830\n",
      "Epoch 4, step 500, Loss: 0.105, Acc: 0.970, lr: 0.074, momentum: 0.834\n"
     ]
    }
   ],
   "source": [
    "# initial cur_batch to None\n",
    "cur_batch = None\n",
    "\n",
    "for e in range(5):\n",
    "    for i, fur_batch in enumerate(train_loader):\n",
    "        # skip first batch as current batch is None\n",
    "        if cur_batch is None:\n",
    "            cur_batch = fur_batch\n",
    "            continue\n",
    "\n",
    "        # future gradient step\n",
    "        future_output = net(fur_batch[0])\n",
    "        future_loss = criterion(future_output, fur_batch[1])\n",
    "        future_loss.backward()\n",
    "        optimizer.store_next_grad()\n",
    "        optimizer.zero_grad()\n",
    "\n",
    "        # update main model\n",
    "        output = net(cur_batch[0])\n",
    "        loss = criterion(output, cur_batch[1])\n",
    "        loss.backward()\n",
    "        optimizer.step()\n",
    "        optimizer.zero_grad()\n",
    "        acc = (output.argmax(dim=1) == cur_batch[1]).float().mean()\n",
    "\n",
    "        # update current batch\n",
    "        cur_batch = fur_batch\n",
    "\n",
    "        if i % 100 == 0:\n",
    "            print(\n",
    "                f\"Epoch {e}, step {i:3d}, Loss: {loss.item():.3f}, Acc: {acc.item():.3f}, \"\n",
    "                f\"lr: {optimizer.param_groups[0]['lr']:.3f}, momentum: {optimizer.param_groups[0]['momentum']:.3f}\"\n",
    "            )"
   ]
  }
 ],
 "metadata": {
  "kernelspec": {
   "display_name": "fl",
   "language": "python",
   "name": "python3"
  },
  "language_info": {
   "codemirror_mode": {
    "name": "ipython",
    "version": 3
   },
   "file_extension": ".py",
   "mimetype": "text/x-python",
   "name": "python",
   "nbconvert_exporter": "python",
   "pygments_lexer": "ipython3",
   "version": "3.10.4"
  }
 },
 "nbformat": 4,
 "nbformat_minor": 2
}
